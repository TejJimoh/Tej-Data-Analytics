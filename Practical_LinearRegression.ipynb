{
    "metadata": {
        "kernelspec": {
            "name": "python3",
            "display_name": "Python 3"
        },
        "language_info": {
            "name": "python",
            "version": "3.6.6",
            "mimetype": "text/x-python",
            "codemirror_mode": {
                "name": "ipython",
                "version": 3
            },
            "pygments_lexer": "ipython3",
            "nbconvert_exporter": "python",
            "file_extension": ".py"
        }
    },
    "nbformat_minor": 2,
    "nbformat": 4,
    "cells": [
        {
            "cell_type": "markdown",
            "source": [
                "## Linear Regression and project note.\r\n",
                "\r\n",
                "Regression analysis consists of a set of machine learning methods that allow us to predict a continuous outcome variable (y) based on the value of one or multiple predictor variables (x). \r\n",
                "\r\n",
                "Briefly, the goal of regression model is to build a mathematical equation that defines y as a function of the x variables.\r\n",
                "\r\n",
                "Linear Regression is a machine learning algorithm based on supervised learning. It performs a regression task. Regression models a target prediction value based on independent variables.\r\n",
                "\r\n",
                "A simple Linear Regression fits the model of a straight line:\r\n",
                " \r\n",
                "y = ax + b\r\n",
                "\r\n",
                "where a is commonly known as the slope, b is commonly known as the intercept.\r\n",
                "\r\n",
                "x is your independent variables (also referred to as Features). These are the input for a process that is being analyze. \r\n",
                "Y is you dependent variables. These are the output of the process.\r\n",
                "\r\n",
                "In this tutorial, we will use 3 examples to demostrate the use of Linear Regression.\r\n",
                "\r\n",
                "#### Example 1: \r\n",
                "\r\n",
                "This is a simple Linear Regression with single independent variable (area). In a nutshell, we have to determine the price( dependent variable) of a house based on the area size of the house. \r\n",
                "\r\n",
                "The data is store in SQL Server tables.\r\n",
                "\r\n",
                "\r\n",
                "\r\n",
                "[Tutorial].[dbo].[AreasActualPrice] : This is our trained table, it contains all the live data. \r\n",
                "\r\n",
                "[Tutorial].[dbo].[AreasPredicted] : This is the test table. We have to determine the value of empty price column.\r\n",
                "\r\n",
                "[Tutorial].[dbo].[AreasPrice] : This is our main final table. It contains both trained(Actual data) and predicted data. The column namely Status contains 2 values. They are Predicted and Actual.\r\n",
                "\r\n",
                "\r\n",
                "#### Example 2: \r\n",
                "\r\n",
                "This is a Linear Regression with multiple variables (Multivariate) with data in excel. In a nutshell, we have to determine the price( dependent variable) of a house based on the area size of the house, \r\n",
                "the number of bedrooms and the age of the house. \r\n",
                "\r\n",
                "\r\n",
                "#### Example 3: \r\n",
                "\r\n",
                "This is a Linear Regression with multiple variables (Multivariate) with data in SQL Server tables.\r\n",
                "In this case, we have to determine the hiring salary( dependent variable) of a potential employee based on years of experience, test_score_out_of_10 and interview_score_out_of_10.\r\n",
                "\r\n",
                "\r\n",
                "[Tutorial].[dbo].[ActualHiring] : This is our trained table, it contains all the live data. \r\n",
                "\r\n",
                "[Tutorial].[dbo].[ActualPredictedHiring] : This is the test table. We have to determine the value of  salary column.\r\n",
                "\r\n",
                "\r\n",
                "\r\n",
                ""
            ],
            "metadata": {
                "azdata_cell_guid": "6f78ac6f-501b-4672-b890-2b233142d865"
            }
        },
        {
            "cell_type": "markdown",
            "source": [
                "### EXAMPLE 1 : Linear Regression with single variable in SQL Server table"
            ],
            "metadata": {
                "azdata_cell_guid": "1478e074-e6ce-45ec-a85f-eea82554fdc1"
            }
        },
        {
            "cell_type": "code",
            "source": [
                "# Example of how to use Linear Regression single variable with data in SQL Server tables\r\n",
                "# Import packages\r\n",
                "import numpy as np\r\n",
                "import pandas as pd\r\n",
                "from sklearn import linear_model\r\n",
                "import matplotlib.pyplot as plt\r\n",
                "from sklearn.metrics import mean_squared_error, r2_score\r\n",
                "import pyodbc\r\n",
                "\r\n",
                "# Step 1: get your data from SQL Server and assign it to a pandas variable\r\n",
                "conn_str = pyodbc.connect('Driver={SQL Server};' 'Server=LAPTOP-CHKIB79A;''Database=Tutorial;''Trusted_Connection=yes;')\r\n",
                "query_str = \"SELECT * FROM [Tutorial].[dbo].[AreasActualPrice]\"\r\n",
                "df = pd.read_sql(sql=query_str, con=conn_str)\r\n",
                "df.head(5)"
            ],
            "metadata": {
                "azdata_cell_guid": "5bd41093-16d5-4bd9-b2b3-4dc08c6c8cab",
                "tags": []
            },
            "outputs": [
                {
                    "data": {
                        "text/plain": "   Area     Price\n0  2600  550000.0\n1  3000  565000.0\n2  3200  610000.0\n3  3600  680000.0\n4  4000  725000.0",
                        "text/html": "<div>\n<style scoped>\n    .dataframe tbody tr th:only-of-type {\n        vertical-align: middle;\n    }\n\n    .dataframe tbody tr th {\n        vertical-align: top;\n    }\n\n    .dataframe thead th {\n        text-align: right;\n    }\n</style>\n<table border=\"1\" class=\"dataframe\">\n  <thead>\n    <tr style=\"text-align: right;\">\n      <th></th>\n      <th>Area</th>\n      <th>Price</th>\n    </tr>\n  </thead>\n  <tbody>\n    <tr>\n      <th>0</th>\n      <td>2600</td>\n      <td>550000.0</td>\n    </tr>\n    <tr>\n      <th>1</th>\n      <td>3000</td>\n      <td>565000.0</td>\n    </tr>\n    <tr>\n      <th>2</th>\n      <td>3200</td>\n      <td>610000.0</td>\n    </tr>\n    <tr>\n      <th>3</th>\n      <td>3600</td>\n      <td>680000.0</td>\n    </tr>\n    <tr>\n      <th>4</th>\n      <td>4000</td>\n      <td>725000.0</td>\n    </tr>\n  </tbody>\n</table>\n</div>"
                    },
                    "metadata": {},
                    "execution_count": 408,
                    "output_type": "execute_result"
                }
            ],
            "execution_count": 408
        },
        {
            "cell_type": "code",
            "source": [
                "# Step 2: Let's do a quick scatter plot to get an idea of the shape of the data. You need to pass in (x,y) variable\r\n",
                "plt.xlabel('Area in Sqr ft')\r\n",
                "plt.ylabel('Price in $')\r\n",
                "plt.scatter(df.Area,df.Price, color = 'red', marker= '*')"
            ],
            "metadata": {
                "azdata_cell_guid": "dc0f36a3-72e0-46aa-8c60-ca1ba2b2c8b0"
            },
            "outputs": [
                {
                    "data": {
                        "text/plain": "<matplotlib.collections.PathCollection at 0x22c9f456fd0>"
                    },
                    "metadata": {},
                    "execution_count": 409,
                    "output_type": "execute_result"
                },
                {
                    "data": {
                        "text/plain": "<Figure size 432x288 with 1 Axes>",
                        "image/png": "[encoded data removed]"
                    },
                    "metadata": {
                        "needs_background": "light"
                    },
                    "output_type": "display_data"
                }
            ],
            "execution_count": 409
        },
        {
            "cell_type": "code",
            "source": [
                "# Step 3: fit your model to use available datasets.\r\n",
                "reg = linear_model.LinearRegression() # get linear regression object\r\n",
                "reg.fit(df[['Area']],df.Price) # fit your linear regression model. Note that your independent first argument is a 2d array"
            ],
            "metadata": {
                "azdata_cell_guid": "0562245e-43f9-4dc6-8d45-4a9844ea8837",
                "tags": [
                    "hide_input"
                ]
            },
            "outputs": [
                {
                    "data": {
                        "text/plain": "LinearRegression()"
                    },
                    "metadata": {},
                    "execution_count": 410,
                    "output_type": "execute_result"
                }
            ],
            "execution_count": 410
        },
        {
            "cell_type": "code",
            "source": [
                "# Step 4 : let's plot the predicted price. Pass in your x variable to a predict function to get y. Note that predict takes 2d array\r\n",
                "plt.scatter(df.Area,df.Price, color = 'red', marker= '*')\r\n",
                "plt.plot(df.Area,reg.predict(df[['Area']]),color = 'black') # pass in the list array of x into predict to get y\r\n",
                "predicted_price = reg.predict(df[['Area']])\r\n",
                "gradient = reg.coef_ # this gives you the gradient or slope\r\n",
                "intercept = reg.intercept_ # this gives you the intercept on the y axix.\r\n",
                "\r\n",
                "# It is important to know how the relationship between the values of the x-axis and the values of the y-axis is, if there are \r\n",
                "# no relationship, the linear regression can not be used to predict anything. The r-squared value ranges from 0 to 1, where 0 means no relationship, \r\n",
                "# and 1 means 100% related.\r\n",
                "r2 = r2_score(df.Price,predicted_price)\r\n",
                "mse = mean_squared_error(df.Price,predicted_price)\r\n",
                "plt.show()\r\n",
                "\r\n",
                "print(\"The r-square value is :\", r2)\r\n",
                "print(\"Mean square error is :\",mse)\r\n",
                "print(\"The gradient is : \",gradient)\r\n",
                "print(\"The intercept is :\",intercept)"
            ],
            "metadata": {
                "azdata_cell_guid": "6cdf6162-50e7-4fe8-a34a-55f01c3e4c00"
            },
            "outputs": [
                {
                    "data": {
                        "text/plain": "<Figure size 432x288 with 1 Axes>",
                        "image/png": "[encoded data removed]"
                    },
                    "metadata": {
                        "needs_background": "light"
                    },
                    "output_type": "display_data"
                },
                {
                    "name": "stdout",
                    "text": "The r-square value is : 0.9584301138199486\nMean square error is : 186815068.4931509\nThe gradient is :  [135.78767123]\nThe intercept is : 180616.43835616432\n",
                    "output_type": "stream"
                }
            ],
            "execution_count": 411
        },
        {
            "cell_type": "code",
            "source": [
                "# Step 5 : Now let's predict the price for any given area. \r\n",
                "# let's get the sql table containing only areas and predict price for each area.\r\n",
                "# get your data and assign it to a pandas variable areasize\r\n",
                "\r\n",
                "conn_str = pyodbc.connect('Driver={SQL Server};' 'Server=LAPTOP-CHKIB79A;''Database=Tutorial;''Trusted_Connection=yes;')\r\n",
                "myquery_str = \"SELECT [Area] FROM [Tutorial].[dbo].[Areas]\"\r\n",
                "areasize = pd.read_sql(sql=myquery_str, con=conn_str)\r\n",
                "\r\n",
                "\r\n",
                "# Now, let's get the predicted prices for any given areas.\r\n",
                "# remember to go back to your fit model ie reg and pass in variable areasize ( this is your x axix) to your predict function\r\n",
                "\r\n",
                "p = reg.predict(areasize) # this gives you predicted prices that are now assign to variable p.\r\n",
                "\r\n",
                "# now, let us assign p to a newly created column namely PredictedPrices. Note that areasize is actually your pandas variable. It act like a table. you are simply adding\r\n",
                "# a newly created PredictedPrices column to Pandas variable table namely areasize.\r\n",
                "\r\n",
                "areasize['PredictedPrices'] = p\r\n",
                "print(areasize)"
            ],
            "metadata": {
                "azdata_cell_guid": "f35a646a-fe04-486e-9f87-4f9b6556bcab"
            },
            "outputs": [
                {
                    "name": "stdout",
                    "text": "    Area  PredictedPrices\n0   1000     3.164041e+05\n1   1500     3.842979e+05\n2   2300     4.929281e+05\n3   3540     6.613048e+05\n4   4120     7.400616e+05\n5   4560     7.998082e+05\n6   5490     9.260908e+05\n7   3460     6.504418e+05\n8   4750     8.256079e+05\n9   2300     4.929281e+05\n10  9000     1.402705e+06\n11  8600     1.348390e+06\n12  7100     1.144709e+06\n",
                    "output_type": "stream"
                }
            ],
            "execution_count": 412
        },
        {
            "cell_type": "code",
            "source": [
                "# Step 6: Let's combine prediction and actual (trained data)  into AreasPrice table. \r\n",
                "# The whole idea here is to get the trained data and predicted data into the same table namely [dbo].[AreasPrice].  \r\n",
                "# See next cells for the content of ClearAreasPredicted and LoadAreaPrice Stored Procedure.\r\n",
                "cursor = conn_str.cursor()\r\n",
                "cursor.execute(\"EXEC ClearAreasPredicted\") # Run SP to truncate table before insertion below.\r\n",
                "for i, row in areasize.iterrows():\r\n",
                "    cursor.execute(\"INSERT INTO [Tutorial].[dbo].[AreasPredicted]([Area],[Price]) values(?,?)\", row['Area'], row['PredictedPrices'] ) \r\n",
                "cursor.execute(\"EXEC LoadAreaPrice\") # Run SP to load final table. Add status column to differenciate between predicted prices and actual prices\r\n",
                "# commit and close connection\r\n",
                "conn_str.commit()\r\n",
                "cursor.close()\r\n",
                "conn_str.close()"
            ],
            "metadata": {
                "azdata_cell_guid": "d15cbe3b-224d-443b-b13f-effb71391a86"
            },
            "outputs": [],
            "execution_count": 413
        },
        {
            "cell_type": "code",
            "source": [
                "''' This is ClearAreasPredicted stored procedure\r\n",
                "USE [Tutorial]\r\n",
                "GO\r\n",
                "\r\n",
                "SET ANSI_NULLS ON\r\n",
                "GO\r\n",
                "SET QUOTED_IDENTIFIER ON\r\n",
                "GO\r\n",
                "\r\n",
                "\r\n",
                "CREATE PROCEDURE [dbo].[ClearAreasPredicted]\r\n",
                "\t\r\n",
                "AS\r\n",
                "BEGIN\r\n",
                "\ttruncate table  [Tutorial].[dbo].[AreasPredicted]\r\n",
                "END\r\n",
                "'''\r\n",
                ""
            ],
            "metadata": {
                "azdata_cell_guid": "4df56f53-72b8-4e03-9762-6d8984972bd2"
            },
            "outputs": [
                {
                    "data": {
                        "text/plain": "' This is ClearAreasPredicted stored procedure\\nUSE [Tutorial]\\nGO\\n\\nSET ANSI_NULLS ON\\nGO\\nSET QUOTED_IDENTIFIER ON\\nGO\\n\\n\\nCREATE PROCEDURE [dbo].[ClearAreasPredicted]\\n\\t\\nAS\\nBEGIN\\n\\ttruncate table  [Tutorial].[dbo].[AreasPredicted]\\nEND\\n'"
                    },
                    "metadata": {},
                    "execution_count": 414,
                    "output_type": "execute_result"
                }
            ],
            "execution_count": 414
        },
        {
            "cell_type": "code",
            "source": [
                "''' This is LoadAreaPrice stored procedure\r\n",
                "USE [Tutorial]\r\n",
                "GO\r\n",
                "\r\n",
                "SET ANSI_NULLS ON\r\n",
                "GO\r\n",
                "SET QUOTED_IDENTIFIER ON\r\n",
                "GO\r\n",
                "\r\n",
                "CREATE PROCEDURE [dbo].[LoadAreaPrice]\r\n",
                "\t\r\n",
                "AS\r\n",
                "BEGIN\r\n",
                "\r\n",
                "TRUNCATE TABLE [dbo].[AreasPrice];\r\n",
                "INSERT INTO [dbo].[AreasPrice]\r\n",
                "\tSELECT  [Area]\r\n",
                "      ,[Price],  \r\n",
                "      'Actual' As Status\r\n",
                "  FROM [Tutorial].[dbo].[AreasActualPrice]\r\n",
                "\r\n",
                "UNION\r\n",
                "\r\n",
                "SELECT  [Area]\r\n",
                "      ,[Price],  \r\n",
                "      'Predicted' As Status\r\n",
                "  FROM [Tutorial].[dbo].[AreasPredicted]\r\n",
                "END\r\n",
                "'''"
            ],
            "metadata": {
                "azdata_cell_guid": "1b2c50a2-a191-4d00-acfa-32d70e1f1fd3"
            },
            "outputs": [
                {
                    "data": {
                        "text/plain": "\" This is LoadAreaPrice stored procedure\\nUSE [Tutorial]\\nGO\\n\\nSET ANSI_NULLS ON\\nGO\\nSET QUOTED_IDENTIFIER ON\\nGO\\n\\nCREATE PROCEDURE [dbo].[LoadAreaPrice]\\n\\t\\nAS\\nBEGIN\\n\\nTRUNCATE TABLE [dbo].[AreasPrice];\\nINSERT INTO [dbo].[AreasPrice]\\n\\tSELECT  [Area]\\n      ,[Price],  \\n      'Actual' As Status\\n  FROM [Tutorial].[dbo].[AreasActualPrice]\\n\\nUNION\\n\\nSELECT  [Area]\\n      ,[Price],  \\n      'Predicted' As Status\\n  FROM [Tutorial].[dbo].[AreasPredicted]\\nEND\\n\""
                    },
                    "metadata": {},
                    "execution_count": 415,
                    "output_type": "execute_result"
                }
            ],
            "execution_count": 415
        },
        {
            "cell_type": "code",
            "source": [
                "# Let's see the content of our final table containing both actual (trained data) and predicted data.\r\n",
                "conn_str1 = pyodbc.connect('Driver={SQL Server};' 'Server=LAPTOP-CHKIB79A;''Database=Tutorial;''Trusted_Connection=yes;')\r\n",
                "query_str1 = \"SELECT * FROM [Tutorial].[dbo].[AreasPrice]\"\r\n",
                "dftest = pd.read_sql(sql=query_str1, con=conn_str1)\r\n",
                "dftest.head(8)"
            ],
            "metadata": {
                "azdata_cell_guid": "61ae29ae-0846-4b7d-9cf5-197f355f7ed8"
            },
            "outputs": [
                {
                    "data": {
                        "text/plain": "   Area          Price           Status\n0  1000  316404.109589  Predicted      \n1  1500  384297.945205  Predicted      \n2  2300  492928.082192  Predicted      \n3  2600  550000.000000  Actual         \n4  3000  565000.000000  Actual         \n5  3200  610000.000000  Actual         \n6  3460  650441.780822  Predicted      \n7  3540  661304.794521  Predicted      ",
                        "text/html": "<div>\n<style scoped>\n    .dataframe tbody tr th:only-of-type {\n        vertical-align: middle;\n    }\n\n    .dataframe tbody tr th {\n        vertical-align: top;\n    }\n\n    .dataframe thead th {\n        text-align: right;\n    }\n</style>\n<table border=\"1\" class=\"dataframe\">\n  <thead>\n    <tr style=\"text-align: right;\">\n      <th></th>\n      <th>Area</th>\n      <th>Price</th>\n      <th>Status</th>\n    </tr>\n  </thead>\n  <tbody>\n    <tr>\n      <th>0</th>\n      <td>1000</td>\n      <td>316404.109589</td>\n      <td>Predicted</td>\n    </tr>\n    <tr>\n      <th>1</th>\n      <td>1500</td>\n      <td>384297.945205</td>\n      <td>Predicted</td>\n    </tr>\n    <tr>\n      <th>2</th>\n      <td>2300</td>\n      <td>492928.082192</td>\n      <td>Predicted</td>\n    </tr>\n    <tr>\n      <th>3</th>\n      <td>2600</td>\n      <td>550000.000000</td>\n      <td>Actual</td>\n    </tr>\n    <tr>\n      <th>4</th>\n      <td>3000</td>\n      <td>565000.000000</td>\n      <td>Actual</td>\n    </tr>\n    <tr>\n      <th>5</th>\n      <td>3200</td>\n      <td>610000.000000</td>\n      <td>Actual</td>\n    </tr>\n    <tr>\n      <th>6</th>\n      <td>3460</td>\n      <td>650441.780822</td>\n      <td>Predicted</td>\n    </tr>\n    <tr>\n      <th>7</th>\n      <td>3540</td>\n      <td>661304.794521</td>\n      <td>Predicted</td>\n    </tr>\n  </tbody>\n</table>\n</div>"
                    },
                    "metadata": {},
                    "execution_count": 416,
                    "output_type": "execute_result"
                }
            ],
            "execution_count": 416
        },
        {
            "cell_type": "code",
            "source": [
                "# commit and close connection\r\n",
                "conn_str1.commit()\r\n",
                "conn_str1.close()"
            ],
            "metadata": {
                "azdata_cell_guid": "c280db10-cdcd-4d49-96e3-89a5388e3762"
            },
            "outputs": [],
            "execution_count": 417
        },
        {
            "cell_type": "code",
            "source": [
                "# Step 7: Finally you can save your model (reg) to a file using pickle. You can now give this file to your work colleague to make prediction.\r\n",
                "# save your model to a writable binary (wb) and call dump function to write it to the specified path\r\n",
                "import pickle\r\n",
                "with open('C:\\Python\\My Files\\model_pickle','wb') as f:\r\n",
                "    pickle.dump(reg,f)\r\n",
                "# read binary (rb) file and call load function to read from the file\r\n",
                "with open('C:\\Python\\My Files\\model_pickle','rb') as f:\r\n",
                "    mp = pickle.load(f)\r\n",
                "# now, let's test our model to predict the price for an area of 3000\r\n",
                "print(\"Predicted price for an area of 3000 is :\",mp.predict([[3000]]))"
            ],
            "metadata": {
                "azdata_cell_guid": "06252de5-035c-49ff-958a-a14f6544ec48"
            },
            "outputs": [
                {
                    "name": "stdout",
                    "text": "Predicted price for an area of 3000 is : [587979.45205479]\n",
                    "output_type": "stream"
                }
            ],
            "execution_count": 418
        },
        {
            "cell_type": "code",
            "source": [
                "# Step 8: You can now give model_pickle file to your colleaque. He or she will save it to a drive and can then run it in say Jupyter Notebook to make prediction.\r\n",
                "# Your colleaque will simply have to call the load function to open the file given to them and save this into a variable as shown below.\r\n",
                "\r\n",
                "import pickle\r\n",
                "\r\n",
                "var = pickle.load(open('C:\\Python\\My Files\\model_pickle','rb'))\r\n",
                "print(\"Predicted value :\",var.predict([[3000]]))\r\n",
                "print(\"My gradient is :\" ,var.intercept_)\r\n",
                "print(\"My coefficient is :\", var.coef_)"
            ],
            "metadata": {
                "azdata_cell_guid": "e3478111-9af2-439c-b7df-7099453039c4"
            },
            "outputs": [
                {
                    "name": "stdout",
                    "text": "Predicted value : [587979.45205479]\nMy gradient is : 180616.43835616432\nMy coefficient is : [135.78767123]\n",
                    "output_type": "stream"
                }
            ],
            "execution_count": 419
        },
        {
            "cell_type": "markdown",
            "source": [
                "### EXAMPLE 2 : Linear Regression with multiple variables (Multivariate) with data in excel"
            ],
            "metadata": {
                "azdata_cell_guid": "b949073a-9c8d-430a-860b-377ffd024627"
            }
        },
        {
            "cell_type": "code",
            "source": [
                "# Example of how to use Linear Regression multiple variable (Multivariate) with data in excel\r\n",
                "import numpy as np\r\n",
                "import pandas as pd\r\n",
                "from sklearn import linear_model\r\n",
                "import matplotlib.pyplot as plt\r\n",
                "from sklearn.metrics import mean_squared_error, r2_score\r\n",
                "import pyodbc\r\n",
                "import math\r\n",
                "\r\n",
                "# Step 1: get your data from excel file and assign it to a pandas variable\r\n",
                "df = pd.read_csv(\"C:\\Python\\My Files\\homeprices_2.csv\")\r\n",
                "df.head()"
            ],
            "metadata": {
                "azdata_cell_guid": "fd9c3a91-7eb8-466a-9716-2a54b6af3bdd",
                "tags": []
            },
            "outputs": [
                {
                    "data": {
                        "text/plain": "   area  bedrooms  age   price\n0  2600       3.0   20  550000\n1  3000       4.0   15  565000\n2  3200       NaN   18  610000\n3  3600       3.0   30  595000\n4  4000       5.0    8  760000",
                        "text/html": "<div>\n<style scoped>\n    .dataframe tbody tr th:only-of-type {\n        vertical-align: middle;\n    }\n\n    .dataframe tbody tr th {\n        vertical-align: top;\n    }\n\n    .dataframe thead th {\n        text-align: right;\n    }\n</style>\n<table border=\"1\" class=\"dataframe\">\n  <thead>\n    <tr style=\"text-align: right;\">\n      <th></th>\n      <th>area</th>\n      <th>bedrooms</th>\n      <th>age</th>\n      <th>price</th>\n    </tr>\n  </thead>\n  <tbody>\n    <tr>\n      <th>0</th>\n      <td>2600</td>\n      <td>3.0</td>\n      <td>20</td>\n      <td>550000</td>\n    </tr>\n    <tr>\n      <th>1</th>\n      <td>3000</td>\n      <td>4.0</td>\n      <td>15</td>\n      <td>565000</td>\n    </tr>\n    <tr>\n      <th>2</th>\n      <td>3200</td>\n      <td>NaN</td>\n      <td>18</td>\n      <td>610000</td>\n    </tr>\n    <tr>\n      <th>3</th>\n      <td>3600</td>\n      <td>3.0</td>\n      <td>30</td>\n      <td>595000</td>\n    </tr>\n    <tr>\n      <th>4</th>\n      <td>4000</td>\n      <td>5.0</td>\n      <td>8</td>\n      <td>760000</td>\n    </tr>\n  </tbody>\n</table>\n</div>"
                    },
                    "metadata": {},
                    "execution_count": 420,
                    "output_type": "execute_result"
                }
            ],
            "execution_count": 420
        },
        {
            "cell_type": "code",
            "source": [
                "# let's do some data cleaning to replace the null value in bedrooms with the aveage bedroom size.\r\n",
                "#let's get the average bedroom size\r\n",
                "mean_bedrooms = df.bedrooms.mean()\r\n",
                "\r\n",
                "#let's round this up to an interger\r\n",
                "mean_bedrooms = math.floor(mean_bedrooms)\r\n",
                "\r\n",
                "#let's fill in all the null values in bedrooms size with the aveage value above and assign the filled value back to our original bedroom\r\n",
                "df.bedrooms = df.bedrooms.fillna(mean_bedrooms)\r\n",
                "df.bedrooms.head()"
            ],
            "metadata": {
                "azdata_cell_guid": "9f15367f-09d6-460b-9506-abf7729f6a07",
                "tags": []
            },
            "outputs": [
                {
                    "data": {
                        "text/plain": "0    3.0\n1    4.0\n2    4.0\n3    3.0\n4    5.0\nName: bedrooms, dtype: float64"
                    },
                    "metadata": {},
                    "execution_count": 421,
                    "output_type": "execute_result"
                }
            ],
            "execution_count": 421
        },
        {
            "cell_type": "code",
            "source": [
                "# Step 2: Let's do a quick scatter plot to get an idea of the shape of the data. Test individual independent variable one by one ie area as shown below.\r\n",
                "\r\n",
                "#let's test the shape of the area\r\n",
                "plt.xlabel('Area in Sqr ft')\r\n",
                "plt.ylabel('Price in $')\r\n",
                "plt.scatter(df.area,df.price, color = 'red', marker= '*')"
            ],
            "metadata": {
                "azdata_cell_guid": "f0f017dd-3f1a-4456-9254-822fa56a8e7a"
            },
            "outputs": [
                {
                    "data": {
                        "text/plain": "<matplotlib.collections.PathCollection at 0x22c9f637208>"
                    },
                    "metadata": {},
                    "execution_count": 422,
                    "output_type": "execute_result"
                },
                {
                    "data": {
                        "text/plain": "<Figure size 432x288 with 1 Axes>",
                        "image/png": "[encoded data removed]"
                    },
                    "metadata": {
                        "needs_background": "light"
                    },
                    "output_type": "display_data"
                }
            ],
            "execution_count": 422
        },
        {
            "cell_type": "code",
            "source": [
                "# Step 3: fit your model to use available datasets.\r\n",
                "reg = linear_model.LinearRegression() # get linear regression object\r\n",
                "reg.fit(df[['area','bedrooms','age']],df.price) # fit your linear regression model. Note that your independent first argument is a 2d array\r\n",
                "\r\n",
                "# Step 4 : let's get the predicted price. Pass in your x variable to a predict function to get y. Note that predict takes 2d array\r\n",
                "predicted_price = reg.predict(df[['area','bedrooms','age']])\r\n",
                "gradient = reg.coef_ # this gives you the gradient or slope\r\n",
                "intercept = reg.intercept_ # this gives you the intercept on the y axix.\r\n",
                "\r\n",
                "# It is important to know how the relationship between the values of the x-axis and the values of the y-axis is, if there are \r\n",
                "# no relationship the linear regression can not be used to predict anything. The r-squared value ranges from 0 to 1, where 0 means no relationship, \r\n",
                "# and 1 means 100% related.\r\n",
                "r2 = r2_score(df.price,predicted_price)\r\n",
                "mse = mean_squared_error(df.price,predicted_price)\r\n",
                "\r\n",
                "print(\"The r-square value is :\", r2)\r\n",
                "print(\"Mean square error is :\",mse)\r\n",
                "print(\"The gradient is : \",gradient)\r\n",
                "print(\"The intercept is :\",intercept)"
            ],
            "metadata": {
                "azdata_cell_guid": "aa7714b9-b14a-48a2-a73d-3688c4317ab7",
                "tags": []
            },
            "outputs": [
                {
                    "name": "stdout",
                    "text": "The r-square value is : 0.9550196399325818\nMean square error is : 446305128.22449404\nThe gradient is :  [  112.06244194 23388.88007794 -3231.71790863]\nThe intercept is : 221323.00186540443\n",
                    "output_type": "stream"
                }
            ],
            "execution_count": 423
        },
        {
            "cell_type": "code",
            "source": [
                "# Step 5: Now let's get the price prediction for \r\n",
                "# 3000sq feet area, 3 bedrooms and 40 years old house and \r\n",
                "# 2500sq feet area, 4 bedrooms and 5 years old house\r\n",
                "\r\n",
                "priceprediction = reg.predict([[3000,3,40],[2500,4,5]])\r\n",
                "print(\"The predictions are :\" ,priceprediction)"
            ],
            "metadata": {
                "azdata_cell_guid": "04319827-87b1-484d-9190-a2b88e31f60b"
            },
            "outputs": [
                {
                    "name": "stdout",
                    "text": "The predictions are : [498408.25158031 578876.03748933]\n",
                    "output_type": "stream"
                }
            ],
            "execution_count": 424
        },
        {
            "cell_type": "markdown",
            "source": [
                "### EXAMPLE 3 : Linear Regression with multiple variables (Multivariate) with data in SQL Server table"
            ],
            "metadata": {
                "azdata_cell_guid": "9bce952a-6138-46ec-acd6-836f9130dbf0"
            }
        },
        {
            "cell_type": "code",
            "source": [
                "# This is a good example of how to use Linear Regression multiple variable (Multivariate)  with data in SQL Server tables\r\n",
                "import numpy as np\r\n",
                "import pandas as pd\r\n",
                "from sklearn import linear_model\r\n",
                "import matplotlib.pyplot as plt\r\n",
                "from sklearn.metrics import mean_squared_error, r2_score\r\n",
                "import pyodbc\r\n",
                "from word2number import w2n\r\n",
                "import math\r\n",
                "\r\n",
                "# Step 1: get your data from SQL Server and assign it to a pandas variable\r\n",
                "conn_str = pyodbc.connect('Driver={SQL Server};' 'Server=LAPTOP-CHKIB79A;''Database=Tutorial;''Trusted_Connection=yes;')\r\n",
                "query_str = \"SELECT * FROM [Tutorial].[dbo].[ActualHiring]\"\r\n",
                "df = pd.read_sql(sql=query_str, con=conn_str)\r\n",
                "df.head(10)"
            ],
            "metadata": {
                "azdata_cell_guid": "2f4e362a-4680-4da0-b37a-8feaa2950602"
            },
            "outputs": [
                {
                    "data": {
                        "text/plain": "  experience  test_score_out_of_10  interview_score_out_of_10  salary\n0       None                   8.0                          9   50000\n1       None                   8.0                          6   45000\n2       five                   6.0                          7   60000\n3        two                  10.0                         10   65000\n4      seven                   9.0                          6   70000\n5      three                   7.0                         10   62000\n6        ten                   NaN                          7   72000\n7     eleven                   7.0                          8   80000",
                        "text/html": "<div>\n<style scoped>\n    .dataframe tbody tr th:only-of-type {\n        vertical-align: middle;\n    }\n\n    .dataframe tbody tr th {\n        vertical-align: top;\n    }\n\n    .dataframe thead th {\n        text-align: right;\n    }\n</style>\n<table border=\"1\" class=\"dataframe\">\n  <thead>\n    <tr style=\"text-align: right;\">\n      <th></th>\n      <th>experience</th>\n      <th>test_score_out_of_10</th>\n      <th>interview_score_out_of_10</th>\n      <th>salary</th>\n    </tr>\n  </thead>\n  <tbody>\n    <tr>\n      <th>0</th>\n      <td>None</td>\n      <td>8.0</td>\n      <td>9</td>\n      <td>50000</td>\n    </tr>\n    <tr>\n      <th>1</th>\n      <td>None</td>\n      <td>8.0</td>\n      <td>6</td>\n      <td>45000</td>\n    </tr>\n    <tr>\n      <th>2</th>\n      <td>five</td>\n      <td>6.0</td>\n      <td>7</td>\n      <td>60000</td>\n    </tr>\n    <tr>\n      <th>3</th>\n      <td>two</td>\n      <td>10.0</td>\n      <td>10</td>\n      <td>65000</td>\n    </tr>\n    <tr>\n      <th>4</th>\n      <td>seven</td>\n      <td>9.0</td>\n      <td>6</td>\n      <td>70000</td>\n    </tr>\n    <tr>\n      <th>5</th>\n      <td>three</td>\n      <td>7.0</td>\n      <td>10</td>\n      <td>62000</td>\n    </tr>\n    <tr>\n      <th>6</th>\n      <td>ten</td>\n      <td>NaN</td>\n      <td>7</td>\n      <td>72000</td>\n    </tr>\n    <tr>\n      <th>7</th>\n      <td>eleven</td>\n      <td>7.0</td>\n      <td>8</td>\n      <td>80000</td>\n    </tr>\n  </tbody>\n</table>\n</div>"
                    },
                    "metadata": {},
                    "execution_count": 425,
                    "output_type": "execute_result"
                }
            ],
            "execution_count": 425
        },
        {
            "cell_type": "code",
            "source": [
                "# Now, let's sort out the data quality issues by filling null with zero\r\n",
                "df.experience = df.experience.fillna(\"Zero\")\r\n",
                "df.head(10)"
            ],
            "metadata": {
                "azdata_cell_guid": "d34d235f-f2f0-45ab-8d84-451dad5783ba",
                "tags": []
            },
            "outputs": [
                {
                    "data": {
                        "text/plain": "  experience  test_score_out_of_10  interview_score_out_of_10  salary\n0       Zero                   8.0                          9   50000\n1       Zero                   8.0                          6   45000\n2       five                   6.0                          7   60000\n3        two                  10.0                         10   65000\n4      seven                   9.0                          6   70000\n5      three                   7.0                         10   62000\n6        ten                   NaN                          7   72000\n7     eleven                   7.0                          8   80000",
                        "text/html": "<div>\n<style scoped>\n    .dataframe tbody tr th:only-of-type {\n        vertical-align: middle;\n    }\n\n    .dataframe tbody tr th {\n        vertical-align: top;\n    }\n\n    .dataframe thead th {\n        text-align: right;\n    }\n</style>\n<table border=\"1\" class=\"dataframe\">\n  <thead>\n    <tr style=\"text-align: right;\">\n      <th></th>\n      <th>experience</th>\n      <th>test_score_out_of_10</th>\n      <th>interview_score_out_of_10</th>\n      <th>salary</th>\n    </tr>\n  </thead>\n  <tbody>\n    <tr>\n      <th>0</th>\n      <td>Zero</td>\n      <td>8.0</td>\n      <td>9</td>\n      <td>50000</td>\n    </tr>\n    <tr>\n      <th>1</th>\n      <td>Zero</td>\n      <td>8.0</td>\n      <td>6</td>\n      <td>45000</td>\n    </tr>\n    <tr>\n      <th>2</th>\n      <td>five</td>\n      <td>6.0</td>\n      <td>7</td>\n      <td>60000</td>\n    </tr>\n    <tr>\n      <th>3</th>\n      <td>two</td>\n      <td>10.0</td>\n      <td>10</td>\n      <td>65000</td>\n    </tr>\n    <tr>\n      <th>4</th>\n      <td>seven</td>\n      <td>9.0</td>\n      <td>6</td>\n      <td>70000</td>\n    </tr>\n    <tr>\n      <th>5</th>\n      <td>three</td>\n      <td>7.0</td>\n      <td>10</td>\n      <td>62000</td>\n    </tr>\n    <tr>\n      <th>6</th>\n      <td>ten</td>\n      <td>NaN</td>\n      <td>7</td>\n      <td>72000</td>\n    </tr>\n    <tr>\n      <th>7</th>\n      <td>eleven</td>\n      <td>7.0</td>\n      <td>8</td>\n      <td>80000</td>\n    </tr>\n  </tbody>\n</table>\n</div>"
                    },
                    "metadata": {},
                    "execution_count": 426,
                    "output_type": "execute_result"
                }
            ],
            "execution_count": 426
        },
        {
            "cell_type": "code",
            "source": [
                "# Now, let's convert word numbers to numerical numbers for experience column\r\n",
                "df.experience = df.experience.apply(w2n.word_to_num)\r\n",
                "df.head(10)"
            ],
            "metadata": {
                "azdata_cell_guid": "49b8e6c7-1c09-43b9-bcf2-005e93e81f91"
            },
            "outputs": [
                {
                    "data": {
                        "text/plain": "   experience  test_score_out_of_10  interview_score_out_of_10  salary\n0           0                   8.0                          9   50000\n1           0                   8.0                          6   45000\n2           5                   6.0                          7   60000\n3           2                  10.0                         10   65000\n4           7                   9.0                          6   70000\n5           3                   7.0                         10   62000\n6          10                   NaN                          7   72000\n7          11                   7.0                          8   80000",
                        "text/html": "<div>\n<style scoped>\n    .dataframe tbody tr th:only-of-type {\n        vertical-align: middle;\n    }\n\n    .dataframe tbody tr th {\n        vertical-align: top;\n    }\n\n    .dataframe thead th {\n        text-align: right;\n    }\n</style>\n<table border=\"1\" class=\"dataframe\">\n  <thead>\n    <tr style=\"text-align: right;\">\n      <th></th>\n      <th>experience</th>\n      <th>test_score_out_of_10</th>\n      <th>interview_score_out_of_10</th>\n      <th>salary</th>\n    </tr>\n  </thead>\n  <tbody>\n    <tr>\n      <th>0</th>\n      <td>0</td>\n      <td>8.0</td>\n      <td>9</td>\n      <td>50000</td>\n    </tr>\n    <tr>\n      <th>1</th>\n      <td>0</td>\n      <td>8.0</td>\n      <td>6</td>\n      <td>45000</td>\n    </tr>\n    <tr>\n      <th>2</th>\n      <td>5</td>\n      <td>6.0</td>\n      <td>7</td>\n      <td>60000</td>\n    </tr>\n    <tr>\n      <th>3</th>\n      <td>2</td>\n      <td>10.0</td>\n      <td>10</td>\n      <td>65000</td>\n    </tr>\n    <tr>\n      <th>4</th>\n      <td>7</td>\n      <td>9.0</td>\n      <td>6</td>\n      <td>70000</td>\n    </tr>\n    <tr>\n      <th>5</th>\n      <td>3</td>\n      <td>7.0</td>\n      <td>10</td>\n      <td>62000</td>\n    </tr>\n    <tr>\n      <th>6</th>\n      <td>10</td>\n      <td>NaN</td>\n      <td>7</td>\n      <td>72000</td>\n    </tr>\n    <tr>\n      <th>7</th>\n      <td>11</td>\n      <td>7.0</td>\n      <td>8</td>\n      <td>80000</td>\n    </tr>\n  </tbody>\n</table>\n</div>"
                    },
                    "metadata": {},
                    "execution_count": 427,
                    "output_type": "execute_result"
                }
            ],
            "execution_count": 427
        },
        {
            "cell_type": "code",
            "source": [
                "# let's sort out null value in test_score_out_of_10 column\r\n",
                "# get the average value for test_score_out_of_10\r\n",
                "test_score_updated = df.test_score_out_of_10.mean()\r\n",
                "print(\"The aveage test_score_out_of_10 is :\",  test_score_updated)\r\n",
                "# convert the average value to integer\r\n",
                "test_score_updated = math.floor(test_score_updated)\r\n",
                "print(\"The aveage integer test_score_out_of_10 is :\",  test_score_updated)\r\n",
                "# fill the null value in the column with the new average value\r\n",
                "df.test_score_out_of_10 = df.test_score_out_of_10.fillna(test_score_updated)\r\n",
                "df.head()"
            ],
            "metadata": {
                "azdata_cell_guid": "512e47d0-5540-4328-8df4-a8aaf9fbe88e"
            },
            "outputs": [
                {
                    "name": "stdout",
                    "text": "The aveage test_score_out_of_10 is : 7.857142857142857\nThe aveage integer test_score_out_of_10 is : 7\n",
                    "output_type": "stream"
                },
                {
                    "data": {
                        "text/plain": "   experience  test_score_out_of_10  interview_score_out_of_10  salary\n0           0                   8.0                          9   50000\n1           0                   8.0                          6   45000\n2           5                   6.0                          7   60000\n3           2                  10.0                         10   65000\n4           7                   9.0                          6   70000",
                        "text/html": "<div>\n<style scoped>\n    .dataframe tbody tr th:only-of-type {\n        vertical-align: middle;\n    }\n\n    .dataframe tbody tr th {\n        vertical-align: top;\n    }\n\n    .dataframe thead th {\n        text-align: right;\n    }\n</style>\n<table border=\"1\" class=\"dataframe\">\n  <thead>\n    <tr style=\"text-align: right;\">\n      <th></th>\n      <th>experience</th>\n      <th>test_score_out_of_10</th>\n      <th>interview_score_out_of_10</th>\n      <th>salary</th>\n    </tr>\n  </thead>\n  <tbody>\n    <tr>\n      <th>0</th>\n      <td>0</td>\n      <td>8.0</td>\n      <td>9</td>\n      <td>50000</td>\n    </tr>\n    <tr>\n      <th>1</th>\n      <td>0</td>\n      <td>8.0</td>\n      <td>6</td>\n      <td>45000</td>\n    </tr>\n    <tr>\n      <th>2</th>\n      <td>5</td>\n      <td>6.0</td>\n      <td>7</td>\n      <td>60000</td>\n    </tr>\n    <tr>\n      <th>3</th>\n      <td>2</td>\n      <td>10.0</td>\n      <td>10</td>\n      <td>65000</td>\n    </tr>\n    <tr>\n      <th>4</th>\n      <td>7</td>\n      <td>9.0</td>\n      <td>6</td>\n      <td>70000</td>\n    </tr>\n  </tbody>\n</table>\n</div>"
                    },
                    "metadata": {},
                    "execution_count": 428,
                    "output_type": "execute_result"
                }
            ],
            "execution_count": 428
        },
        {
            "cell_type": "code",
            "source": [
                "# Step 2: Let's do a quick scatter plot to get an idea of the shape of the data. Test individual independent variable one by one ie area as shown below.\r\n",
                "plt.xlabel('Experience in years')\r\n",
                "plt.ylabel('Price in $')\r\n",
                "plt.scatter(df[['experience']],df.salary, color = 'red', marker= '*')"
            ],
            "metadata": {
                "azdata_cell_guid": "f1b33648-ba83-4569-981d-5bbf8f0f0fe5"
            },
            "outputs": [
                {
                    "data": {
                        "text/plain": "<matplotlib.collections.PathCollection at 0x22ca0b87c88>"
                    },
                    "metadata": {},
                    "execution_count": 429,
                    "output_type": "execute_result"
                },
                {
                    "data": {
                        "text/plain": "<Figure size 432x288 with 1 Axes>",
                        "image/png": "[encoded data removed]"
                    },
                    "metadata": {
                        "needs_background": "light"
                    },
                    "output_type": "display_data"
                }
            ],
            "execution_count": 429
        },
        {
            "cell_type": "code",
            "source": [
                "# Step 3: fit your model to use available datasets.\r\n",
                "reg = linear_model.LinearRegression() # get linear regression object\r\n",
                "reg.fit(df[['experience','test_score_out_of_10','interview_score_out_of_10']],df.salary) # fit your linear regression model. Note that your independent first argument is a 2d array\r\n",
                "\r\n",
                "# Step 4 : let's get the predicted salary. Pass in your x variable to a predict function to get y. Note that predict takes 2d array\r\n",
                "predicted_salary = reg.predict(df[['experience','test_score_out_of_10','interview_score_out_of_10']])\r\n",
                "gradient = reg.coef_ # this gives you the gradient or slope\r\n",
                "intercept = reg.intercept_ # this gives you the intercept on the y axix.\r\n",
                "\r\n",
                "# It is important to know how the relationship between the values of the x-axis and the values of the y-axis is, if there are \r\n",
                "# no relationship the linear regression can not be used to predict anything. The r-squared value ranges from 0 to 1, where 0 means no relationship, \r\n",
                "# and 1 means 100% related.\r\n",
                "r2 = r2_score(df.salary,predicted_salary)\r\n",
                "mse = mean_squared_error(df.salary,predicted_salary)\r\n",
                "\r\n",
                "print(\"r2_score is :\",r2)\r\n",
                "print(\"mean_squared_error is :\",mse)\r\n",
                "print(\"gradients are :\" ,gradient)\r\n",
                "print(\"intercept is :\",intercept)"
            ],
            "metadata": {
                "azdata_cell_guid": "fe71e00c-5928-4bdb-8002-781419f2fe2c"
            },
            "outputs": [
                {
                    "name": "stdout",
                    "text": "r2_score is : 0.977013901427314\nmean_squared_error is : 2660640.909788399\ngradients are : [2922.26901502 2221.30909959 2147.48256637]\nintercept is : 14992.651446693148\n",
                    "output_type": "stream"
                }
            ],
            "execution_count": 430
        },
        {
            "cell_type": "code",
            "source": [
                "# Step 5 : Now let's predict the salary for any given experience,test_score_out_of_10 and interview_score_out_of_10. \r\n",
                "# let's get the sql table  and predict salary for the independent variables\r\n",
                "# get your data and assign it to a pandas variable myvars\r\n",
                "\r\n",
                "conn_str = pyodbc.connect('Driver={SQL Server};' 'Server=LAPTOP-CHKIB79A;''Database=Tutorial;''Trusted_Connection=yes;')\r\n",
                "myquery_str = \"SELECT  [experience] ,[test_score_out_of_10],[interview_score_out_of_10] FROM [Tutorial].[dbo].[PredictedHiring]\"\r\n",
                "myvars = pd.read_sql(sql=myquery_str, con=conn_str)\r\n",
                "myvars.head()"
            ],
            "metadata": {
                "azdata_cell_guid": "69091de1-986c-4574-a86d-14266d183eec"
            },
            "outputs": [
                {
                    "data": {
                        "text/plain": "  experience  test_score_out_of_10  interview_score_out_of_10\n0          2                     9                          6\n1         12                    10                         10\n2          4                     6                          6\n3          5                     7                          8\n4          6                     8                          0",
                        "text/html": "<div>\n<style scoped>\n    .dataframe tbody tr th:only-of-type {\n        vertical-align: middle;\n    }\n\n    .dataframe tbody tr th {\n        vertical-align: top;\n    }\n\n    .dataframe thead th {\n        text-align: right;\n    }\n</style>\n<table border=\"1\" class=\"dataframe\">\n  <thead>\n    <tr style=\"text-align: right;\">\n      <th></th>\n      <th>experience</th>\n      <th>test_score_out_of_10</th>\n      <th>interview_score_out_of_10</th>\n    </tr>\n  </thead>\n  <tbody>\n    <tr>\n      <th>0</th>\n      <td>2</td>\n      <td>9</td>\n      <td>6</td>\n    </tr>\n    <tr>\n      <th>1</th>\n      <td>12</td>\n      <td>10</td>\n      <td>10</td>\n    </tr>\n    <tr>\n      <th>2</th>\n      <td>4</td>\n      <td>6</td>\n      <td>6</td>\n    </tr>\n    <tr>\n      <th>3</th>\n      <td>5</td>\n      <td>7</td>\n      <td>8</td>\n    </tr>\n    <tr>\n      <th>4</th>\n      <td>6</td>\n      <td>8</td>\n      <td>0</td>\n    </tr>\n  </tbody>\n</table>\n</div>"
                    },
                    "metadata": {},
                    "execution_count": 431,
                    "output_type": "execute_result"
                }
            ],
            "execution_count": 431
        },
        {
            "cell_type": "code",
            "source": [
                "# Now, let's get the predicted salaries for all independent variables stored in myvars.\r\n",
                "# remember to go back to your fit model ie reg and pass in variable myvars ( this is your x axix) to your predict function\r\n",
                "\r\n",
                "p = reg.predict(myvars) # this gives you predicted prices that are now assign to variable p.\r\n",
                "\r\n",
                "print(\"Predicted salaries are :\", p)"
            ],
            "metadata": {
                "azdata_cell_guid": "0f5a34c5-ec1b-4f99-a858-5732c1750948"
            },
            "outputs": [
                {
                    "name": "stdout",
                    "text": "Predicted salaries are : [53713.86677124 93747.79628651 52894.47750251 62333.02074986\n 50296.73833353 80612.19757549 58680.56810626]\n",
                    "output_type": "stream"
                }
            ],
            "execution_count": 432
        },
        {
            "cell_type": "code",
            "source": [
                "# now, let assign p to a newly created column namely PredictedSalaries. Note that myvars is actually your pandas variable. It act like a table. You are simply adding\r\n",
                "# a newly created PredictedSalaries column to Pandas variable table namely myvars.\r\n",
                "\r\n",
                "myvars['PredictedSalaries'] = p\r\n",
                "myvars.head(8)"
            ],
            "metadata": {
                "azdata_cell_guid": "eaf4e6f1-3f38-479a-b933-97eac53b5153"
            },
            "outputs": [
                {
                    "data": {
                        "text/plain": "  experience  test_score_out_of_10  interview_score_out_of_10  \\\n0          2                     9                          6   \n1         12                    10                         10   \n2          4                     6                          6   \n3          5                     7                          8   \n4          6                     8                          0   \n5          9                     9                          9   \n6          0                    10                         10   \n\n   PredictedSalaries  \n0       53713.866771  \n1       93747.796287  \n2       52894.477503  \n3       62333.020750  \n4       50296.738334  \n5       80612.197575  \n6       58680.568106  ",
                        "text/html": "<div>\n<style scoped>\n    .dataframe tbody tr th:only-of-type {\n        vertical-align: middle;\n    }\n\n    .dataframe tbody tr th {\n        vertical-align: top;\n    }\n\n    .dataframe thead th {\n        text-align: right;\n    }\n</style>\n<table border=\"1\" class=\"dataframe\">\n  <thead>\n    <tr style=\"text-align: right;\">\n      <th></th>\n      <th>experience</th>\n      <th>test_score_out_of_10</th>\n      <th>interview_score_out_of_10</th>\n      <th>PredictedSalaries</th>\n    </tr>\n  </thead>\n  <tbody>\n    <tr>\n      <th>0</th>\n      <td>2</td>\n      <td>9</td>\n      <td>6</td>\n      <td>53713.866771</td>\n    </tr>\n    <tr>\n      <th>1</th>\n      <td>12</td>\n      <td>10</td>\n      <td>10</td>\n      <td>93747.796287</td>\n    </tr>\n    <tr>\n      <th>2</th>\n      <td>4</td>\n      <td>6</td>\n      <td>6</td>\n      <td>52894.477503</td>\n    </tr>\n    <tr>\n      <th>3</th>\n      <td>5</td>\n      <td>7</td>\n      <td>8</td>\n      <td>62333.020750</td>\n    </tr>\n    <tr>\n      <th>4</th>\n      <td>6</td>\n      <td>8</td>\n      <td>0</td>\n      <td>50296.738334</td>\n    </tr>\n    <tr>\n      <th>5</th>\n      <td>9</td>\n      <td>9</td>\n      <td>9</td>\n      <td>80612.197575</td>\n    </tr>\n    <tr>\n      <th>6</th>\n      <td>0</td>\n      <td>10</td>\n      <td>10</td>\n      <td>58680.568106</td>\n    </tr>\n  </tbody>\n</table>\n</div>"
                    },
                    "metadata": {},
                    "execution_count": 433,
                    "output_type": "execute_result"
                }
            ],
            "execution_count": 433
        },
        {
            "cell_type": "code",
            "source": [
                "# The next step is to map your pandas columns to the columns in your sql table namely PredictedHiring\r\n",
                "# use the connection string to call cursor() function\r\n",
                "cursor = conn_str.cursor()\r\n",
                "cursor.execute(\"truncate table  [Tutorial].[dbo].[ActualPredictedHiring]\")  #truncate table before insertion\r\n",
                "for i, row in myvars.iterrows():\r\n",
                "    cursor.execute(\"INSERT INTO [Tutorial].[dbo].[ActualPredictedHiring]([experience],[test_score_out_of_10],[interview_score_out_of_10],[salary] ) \\\r\n",
                "    values(?,?,?,?)\", row['experience'], row['test_score_out_of_10'],row['interview_score_out_of_10'],row['PredictedSalaries'] ) \r\n",
                "\r\n",
                "\r\n",
                "conn_str.commit()\r\n",
                "cursor.close()\r\n",
                "conn_str.close()"
            ],
            "metadata": {
                "azdata_cell_guid": "8a365419-bc9e-4e73-92b2-197ff300d7f8"
            },
            "outputs": [],
            "execution_count": 434
        },
        {
            "cell_type": "code",
            "source": [
                "# Let us look at the content of our final populated prediction table in SQL Server Management Studio.\r\n",
                "conn_str1 = pyodbc.connect('Driver={SQL Server};' 'Server=LAPTOP-CHKIB79A;''Database=Tutorial;''Trusted_Connection=yes;')\r\n",
                "query_str1 = \"SELECT * FROM [Tutorial].[dbo].[ActualPredictedHiring]\"\r\n",
                "dftest = pd.read_sql(sql=query_str1, con=conn_str1)\r\n",
                "dftest.head(10)"
            ],
            "metadata": {
                "azdata_cell_guid": "2cda5a70-24b5-4fdc-bdc0-4b5b8ab4db2f"
            },
            "outputs": [
                {
                    "data": {
                        "text/plain": "   experience  test_score_out_of_10  interview_score_out_of_10  salary\n0           2                     9                          6   53713\n1          12                    10                         10   93747\n2           4                     6                          6   52894\n3           5                     7                          8   62333\n4           6                     8                          0   50296\n5           9                     9                          9   80612\n6           0                    10                         10   58680",
                        "text/html": "<div>\n<style scoped>\n    .dataframe tbody tr th:only-of-type {\n        vertical-align: middle;\n    }\n\n    .dataframe tbody tr th {\n        vertical-align: top;\n    }\n\n    .dataframe thead th {\n        text-align: right;\n    }\n</style>\n<table border=\"1\" class=\"dataframe\">\n  <thead>\n    <tr style=\"text-align: right;\">\n      <th></th>\n      <th>experience</th>\n      <th>test_score_out_of_10</th>\n      <th>interview_score_out_of_10</th>\n      <th>salary</th>\n    </tr>\n  </thead>\n  <tbody>\n    <tr>\n      <th>0</th>\n      <td>2</td>\n      <td>9</td>\n      <td>6</td>\n      <td>53713</td>\n    </tr>\n    <tr>\n      <th>1</th>\n      <td>12</td>\n      <td>10</td>\n      <td>10</td>\n      <td>93747</td>\n    </tr>\n    <tr>\n      <th>2</th>\n      <td>4</td>\n      <td>6</td>\n      <td>6</td>\n      <td>52894</td>\n    </tr>\n    <tr>\n      <th>3</th>\n      <td>5</td>\n      <td>7</td>\n      <td>8</td>\n      <td>62333</td>\n    </tr>\n    <tr>\n      <th>4</th>\n      <td>6</td>\n      <td>8</td>\n      <td>0</td>\n      <td>50296</td>\n    </tr>\n    <tr>\n      <th>5</th>\n      <td>9</td>\n      <td>9</td>\n      <td>9</td>\n      <td>80612</td>\n    </tr>\n    <tr>\n      <th>6</th>\n      <td>0</td>\n      <td>10</td>\n      <td>10</td>\n      <td>58680</td>\n    </tr>\n  </tbody>\n</table>\n</div>"
                    },
                    "metadata": {},
                    "execution_count": 435,
                    "output_type": "execute_result"
                }
            ],
            "execution_count": 435
        },
        {
            "cell_type": "code",
            "source": [
                "# Comit and close connections\r\n",
                "conn_str1.commit()\r\n",
                "conn_str1.close()"
            ],
            "metadata": {
                "azdata_cell_guid": "03d4519c-bc3d-4c3b-9dbd-39993927c579"
            },
            "outputs": [],
            "execution_count": 436
        }
    ]
}